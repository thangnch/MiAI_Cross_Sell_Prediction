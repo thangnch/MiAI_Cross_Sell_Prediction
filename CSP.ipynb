{
 "cells": [
  {
   "cell_type": "code",
   "execution_count": 1,
   "id": "b555b4b3",
   "metadata": {},
   "outputs": [
    {
     "name": "stdout",
     "output_type": "stream",
     "text": [
      "Sun Apr 24 09:15:09 2022       \r\n",
      "+-----------------------------------------------------------------------------+\r\n",
      "| NVIDIA-SMI 418.87.00    Driver Version: 418.87.00    CUDA Version: 10.1     |\r\n",
      "|-------------------------------+----------------------+----------------------+\r\n",
      "| GPU  Name        Persistence-M| Bus-Id        Disp.A | Volatile Uncorr. ECC |\r\n",
      "| Fan  Temp  Perf  Pwr:Usage/Cap|         Memory-Usage | GPU-Util  Compute M. |\r\n",
      "|===============================+======================+======================|\r\n",
      "|   0  Tesla P100-PCIE...  Off  | 00000000:3B:00.0 Off |                    0 |\r\n",
      "| N/A   30C    P0    31W / 250W |   8717MiB / 16280MiB |      0%      Default |\r\n",
      "+-------------------------------+----------------------+----------------------+\r\n",
      "|   1  Tesla P100-PCIE...  Off  | 00000000:D8:00.0 Off |                    0 |\r\n",
      "| N/A   31C    P0    31W / 250W |    377MiB / 16280MiB |      0%      Default |\r\n",
      "+-------------------------------+----------------------+----------------------+\r\n",
      "                                                                               \r\n",
      "+-----------------------------------------------------------------------------+\r\n",
      "| Processes:                                                       GPU Memory |\r\n",
      "|  GPU       PID   Type   Process name                             Usage      |\r\n",
      "|=============================================================================|\r\n",
      "|    0    267037      C   /home/anhpv/.conda/envs/mtcnn/bin/python    8707MiB |\r\n",
      "|    1    267037      C   /home/anhpv/.conda/envs/mtcnn/bin/python     367MiB |\r\n",
      "+-----------------------------------------------------------------------------+\r\n"
     ]
    }
   ],
   "source": [
    "!nvidia-smi"
   ]
  },
  {
   "cell_type": "code",
   "execution_count": 2,
   "id": "b99a6979",
   "metadata": {},
   "outputs": [],
   "source": [
    "import pandas as pd\n",
    "# !pip install pandas"
   ]
  },
  {
   "cell_type": "code",
   "execution_count": 3,
   "id": "98ea47ed",
   "metadata": {},
   "outputs": [
    {
     "data": {
      "text/html": [
       "<div>\n",
       "<style scoped>\n",
       "    .dataframe tbody tr th:only-of-type {\n",
       "        vertical-align: middle;\n",
       "    }\n",
       "\n",
       "    .dataframe tbody tr th {\n",
       "        vertical-align: top;\n",
       "    }\n",
       "\n",
       "    .dataframe thead th {\n",
       "        text-align: right;\n",
       "    }\n",
       "</style>\n",
       "<table border=\"1\" class=\"dataframe\">\n",
       "  <thead>\n",
       "    <tr style=\"text-align: right;\">\n",
       "      <th></th>\n",
       "      <th>id</th>\n",
       "      <th>Gender</th>\n",
       "      <th>Age</th>\n",
       "      <th>Driving_License</th>\n",
       "      <th>Region_Code</th>\n",
       "      <th>Previously_Insured</th>\n",
       "      <th>Vehicle_Age</th>\n",
       "      <th>Vehicle_Damage</th>\n",
       "      <th>Annual_Premium</th>\n",
       "      <th>Policy_Sales_Channel</th>\n",
       "      <th>Vintage</th>\n",
       "      <th>Response</th>\n",
       "    </tr>\n",
       "  </thead>\n",
       "  <tbody>\n",
       "    <tr>\n",
       "      <th>0</th>\n",
       "      <td>1</td>\n",
       "      <td>Male</td>\n",
       "      <td>44</td>\n",
       "      <td>1</td>\n",
       "      <td>28.0</td>\n",
       "      <td>0</td>\n",
       "      <td>&gt; 2 Years</td>\n",
       "      <td>Yes</td>\n",
       "      <td>40454.0</td>\n",
       "      <td>26.0</td>\n",
       "      <td>217</td>\n",
       "      <td>1</td>\n",
       "    </tr>\n",
       "    <tr>\n",
       "      <th>1</th>\n",
       "      <td>2</td>\n",
       "      <td>Male</td>\n",
       "      <td>76</td>\n",
       "      <td>1</td>\n",
       "      <td>3.0</td>\n",
       "      <td>0</td>\n",
       "      <td>1-2 Year</td>\n",
       "      <td>No</td>\n",
       "      <td>33536.0</td>\n",
       "      <td>26.0</td>\n",
       "      <td>183</td>\n",
       "      <td>0</td>\n",
       "    </tr>\n",
       "    <tr>\n",
       "      <th>2</th>\n",
       "      <td>3</td>\n",
       "      <td>Male</td>\n",
       "      <td>47</td>\n",
       "      <td>1</td>\n",
       "      <td>28.0</td>\n",
       "      <td>0</td>\n",
       "      <td>&gt; 2 Years</td>\n",
       "      <td>Yes</td>\n",
       "      <td>38294.0</td>\n",
       "      <td>26.0</td>\n",
       "      <td>27</td>\n",
       "      <td>1</td>\n",
       "    </tr>\n",
       "    <tr>\n",
       "      <th>3</th>\n",
       "      <td>4</td>\n",
       "      <td>Male</td>\n",
       "      <td>21</td>\n",
       "      <td>1</td>\n",
       "      <td>11.0</td>\n",
       "      <td>1</td>\n",
       "      <td>&lt; 1 Year</td>\n",
       "      <td>No</td>\n",
       "      <td>28619.0</td>\n",
       "      <td>152.0</td>\n",
       "      <td>203</td>\n",
       "      <td>0</td>\n",
       "    </tr>\n",
       "    <tr>\n",
       "      <th>4</th>\n",
       "      <td>5</td>\n",
       "      <td>Female</td>\n",
       "      <td>29</td>\n",
       "      <td>1</td>\n",
       "      <td>41.0</td>\n",
       "      <td>1</td>\n",
       "      <td>&lt; 1 Year</td>\n",
       "      <td>No</td>\n",
       "      <td>27496.0</td>\n",
       "      <td>152.0</td>\n",
       "      <td>39</td>\n",
       "      <td>0</td>\n",
       "    </tr>\n",
       "    <tr>\n",
       "      <th>...</th>\n",
       "      <td>...</td>\n",
       "      <td>...</td>\n",
       "      <td>...</td>\n",
       "      <td>...</td>\n",
       "      <td>...</td>\n",
       "      <td>...</td>\n",
       "      <td>...</td>\n",
       "      <td>...</td>\n",
       "      <td>...</td>\n",
       "      <td>...</td>\n",
       "      <td>...</td>\n",
       "      <td>...</td>\n",
       "    </tr>\n",
       "    <tr>\n",
       "      <th>381104</th>\n",
       "      <td>381105</td>\n",
       "      <td>Male</td>\n",
       "      <td>74</td>\n",
       "      <td>1</td>\n",
       "      <td>26.0</td>\n",
       "      <td>1</td>\n",
       "      <td>1-2 Year</td>\n",
       "      <td>No</td>\n",
       "      <td>30170.0</td>\n",
       "      <td>26.0</td>\n",
       "      <td>88</td>\n",
       "      <td>0</td>\n",
       "    </tr>\n",
       "    <tr>\n",
       "      <th>381105</th>\n",
       "      <td>381106</td>\n",
       "      <td>Male</td>\n",
       "      <td>30</td>\n",
       "      <td>1</td>\n",
       "      <td>37.0</td>\n",
       "      <td>1</td>\n",
       "      <td>&lt; 1 Year</td>\n",
       "      <td>No</td>\n",
       "      <td>40016.0</td>\n",
       "      <td>152.0</td>\n",
       "      <td>131</td>\n",
       "      <td>0</td>\n",
       "    </tr>\n",
       "    <tr>\n",
       "      <th>381106</th>\n",
       "      <td>381107</td>\n",
       "      <td>Male</td>\n",
       "      <td>21</td>\n",
       "      <td>1</td>\n",
       "      <td>30.0</td>\n",
       "      <td>1</td>\n",
       "      <td>&lt; 1 Year</td>\n",
       "      <td>No</td>\n",
       "      <td>35118.0</td>\n",
       "      <td>160.0</td>\n",
       "      <td>161</td>\n",
       "      <td>0</td>\n",
       "    </tr>\n",
       "    <tr>\n",
       "      <th>381107</th>\n",
       "      <td>381108</td>\n",
       "      <td>Female</td>\n",
       "      <td>68</td>\n",
       "      <td>1</td>\n",
       "      <td>14.0</td>\n",
       "      <td>0</td>\n",
       "      <td>&gt; 2 Years</td>\n",
       "      <td>Yes</td>\n",
       "      <td>44617.0</td>\n",
       "      <td>124.0</td>\n",
       "      <td>74</td>\n",
       "      <td>0</td>\n",
       "    </tr>\n",
       "    <tr>\n",
       "      <th>381108</th>\n",
       "      <td>381109</td>\n",
       "      <td>Male</td>\n",
       "      <td>46</td>\n",
       "      <td>1</td>\n",
       "      <td>29.0</td>\n",
       "      <td>0</td>\n",
       "      <td>1-2 Year</td>\n",
       "      <td>No</td>\n",
       "      <td>41777.0</td>\n",
       "      <td>26.0</td>\n",
       "      <td>237</td>\n",
       "      <td>0</td>\n",
       "    </tr>\n",
       "  </tbody>\n",
       "</table>\n",
       "<p>381109 rows × 12 columns</p>\n",
       "</div>"
      ],
      "text/plain": [
       "            id  Gender  Age  Driving_License  Region_Code  Previously_Insured  \\\n",
       "0            1    Male   44                1         28.0                   0   \n",
       "1            2    Male   76                1          3.0                   0   \n",
       "2            3    Male   47                1         28.0                   0   \n",
       "3            4    Male   21                1         11.0                   1   \n",
       "4            5  Female   29                1         41.0                   1   \n",
       "...        ...     ...  ...              ...          ...                 ...   \n",
       "381104  381105    Male   74                1         26.0                   1   \n",
       "381105  381106    Male   30                1         37.0                   1   \n",
       "381106  381107    Male   21                1         30.0                   1   \n",
       "381107  381108  Female   68                1         14.0                   0   \n",
       "381108  381109    Male   46                1         29.0                   0   \n",
       "\n",
       "       Vehicle_Age Vehicle_Damage  Annual_Premium  Policy_Sales_Channel  \\\n",
       "0        > 2 Years            Yes         40454.0                  26.0   \n",
       "1         1-2 Year             No         33536.0                  26.0   \n",
       "2        > 2 Years            Yes         38294.0                  26.0   \n",
       "3         < 1 Year             No         28619.0                 152.0   \n",
       "4         < 1 Year             No         27496.0                 152.0   \n",
       "...            ...            ...             ...                   ...   \n",
       "381104    1-2 Year             No         30170.0                  26.0   \n",
       "381105    < 1 Year             No         40016.0                 152.0   \n",
       "381106    < 1 Year             No         35118.0                 160.0   \n",
       "381107   > 2 Years            Yes         44617.0                 124.0   \n",
       "381108    1-2 Year             No         41777.0                  26.0   \n",
       "\n",
       "        Vintage  Response  \n",
       "0           217         1  \n",
       "1           183         0  \n",
       "2            27         1  \n",
       "3           203         0  \n",
       "4            39         0  \n",
       "...         ...       ...  \n",
       "381104       88         0  \n",
       "381105      131         0  \n",
       "381106      161         0  \n",
       "381107       74         0  \n",
       "381108      237         0  \n",
       "\n",
       "[381109 rows x 12 columns]"
      ]
     },
     "execution_count": 3,
     "metadata": {},
     "output_type": "execute_result"
    }
   ],
   "source": [
    "# Read and display data\n",
    "train = pd.read_csv(\"train.csv\")\n",
    "train"
   ]
  },
  {
   "cell_type": "code",
   "execution_count": 6,
   "id": "43791c6d",
   "metadata": {},
   "outputs": [],
   "source": [
    "train.drop(columns=[\"id\",\"Policy_Sales_Channel\"], inplace=True)"
   ]
  },
  {
   "cell_type": "code",
   "execution_count": 10,
   "id": "1a3e3cab",
   "metadata": {},
   "outputs": [],
   "source": [
    "train = pd.get_dummies(train, columns=[\"Gender\"],drop_first=True)"
   ]
  },
  {
   "cell_type": "code",
   "execution_count": 19,
   "id": "9629cafa",
   "metadata": {},
   "outputs": [],
   "source": [
    "from sklearn.preprocessing import MinMaxScaler\n",
    "scaler = MinMaxScaler()\n",
    "\n",
    "train[[\"Age\", \"Annual_Premium\", \"Vintage\"]] = scaler.fit_transform(train[[\"Age\", \"Annual_Premium\", \"Vintage\"]]) \n"
   ]
  },
  {
   "cell_type": "code",
   "execution_count": 24,
   "id": "80e23392",
   "metadata": {},
   "outputs": [],
   "source": [
    "train[\"Region_Code\"] = train[\"Region_Code\"].apply(lambda x: 1 if x==28 else 0)"
   ]
  },
  {
   "cell_type": "code",
   "execution_count": 26,
   "id": "876b7fd5",
   "metadata": {},
   "outputs": [
    {
     "data": {
      "text/plain": [
       "0    274694\n",
       "1    106415\n",
       "Name: Region_Code, dtype: int64"
      ]
     },
     "execution_count": 26,
     "metadata": {},
     "output_type": "execute_result"
    }
   ],
   "source": [
    "train[\"Region_Code\"].value_counts()"
   ]
  },
  {
   "cell_type": "code",
   "execution_count": 31,
   "id": "c54ab532",
   "metadata": {},
   "outputs": [],
   "source": [
    "train = pd.get_dummies(train, columns=[\"Vehicle_Age\"],drop_first=True)"
   ]
  },
  {
   "cell_type": "code",
   "execution_count": 33,
   "id": "d7f80bc7",
   "metadata": {},
   "outputs": [],
   "source": [
    "train = pd.get_dummies(train, columns=[\"Vehicle_Damage\"],drop_first=True)"
   ]
  },
  {
   "cell_type": "code",
   "execution_count": 34,
   "id": "efffa8c9",
   "metadata": {},
   "outputs": [
    {
     "data": {
      "text/html": [
       "<div>\n",
       "<style scoped>\n",
       "    .dataframe tbody tr th:only-of-type {\n",
       "        vertical-align: middle;\n",
       "    }\n",
       "\n",
       "    .dataframe tbody tr th {\n",
       "        vertical-align: top;\n",
       "    }\n",
       "\n",
       "    .dataframe thead th {\n",
       "        text-align: right;\n",
       "    }\n",
       "</style>\n",
       "<table border=\"1\" class=\"dataframe\">\n",
       "  <thead>\n",
       "    <tr style=\"text-align: right;\">\n",
       "      <th></th>\n",
       "      <th>Age</th>\n",
       "      <th>Driving_License</th>\n",
       "      <th>Region_Code</th>\n",
       "      <th>Previously_Insured</th>\n",
       "      <th>Annual_Premium</th>\n",
       "      <th>Vintage</th>\n",
       "      <th>Response</th>\n",
       "      <th>Gender_Male</th>\n",
       "      <th>Vehicle_Age_&lt; 1 Year</th>\n",
       "      <th>Vehicle_Age_&gt; 2 Years</th>\n",
       "      <th>Vehicle_Damage_Yes</th>\n",
       "    </tr>\n",
       "  </thead>\n",
       "  <tbody>\n",
       "    <tr>\n",
       "      <th>0</th>\n",
       "      <td>0.369231</td>\n",
       "      <td>1</td>\n",
       "      <td>1</td>\n",
       "      <td>0</td>\n",
       "      <td>0.070366</td>\n",
       "      <td>0.716263</td>\n",
       "      <td>1</td>\n",
       "      <td>1</td>\n",
       "      <td>0</td>\n",
       "      <td>1</td>\n",
       "      <td>1</td>\n",
       "    </tr>\n",
       "    <tr>\n",
       "      <th>1</th>\n",
       "      <td>0.861538</td>\n",
       "      <td>1</td>\n",
       "      <td>0</td>\n",
       "      <td>0</td>\n",
       "      <td>0.057496</td>\n",
       "      <td>0.598616</td>\n",
       "      <td>0</td>\n",
       "      <td>1</td>\n",
       "      <td>0</td>\n",
       "      <td>0</td>\n",
       "      <td>0</td>\n",
       "    </tr>\n",
       "    <tr>\n",
       "      <th>2</th>\n",
       "      <td>0.415385</td>\n",
       "      <td>1</td>\n",
       "      <td>1</td>\n",
       "      <td>0</td>\n",
       "      <td>0.066347</td>\n",
       "      <td>0.058824</td>\n",
       "      <td>1</td>\n",
       "      <td>1</td>\n",
       "      <td>0</td>\n",
       "      <td>1</td>\n",
       "      <td>1</td>\n",
       "    </tr>\n",
       "    <tr>\n",
       "      <th>3</th>\n",
       "      <td>0.015385</td>\n",
       "      <td>1</td>\n",
       "      <td>0</td>\n",
       "      <td>1</td>\n",
       "      <td>0.048348</td>\n",
       "      <td>0.667820</td>\n",
       "      <td>0</td>\n",
       "      <td>1</td>\n",
       "      <td>1</td>\n",
       "      <td>0</td>\n",
       "      <td>0</td>\n",
       "    </tr>\n",
       "    <tr>\n",
       "      <th>4</th>\n",
       "      <td>0.138462</td>\n",
       "      <td>1</td>\n",
       "      <td>0</td>\n",
       "      <td>1</td>\n",
       "      <td>0.046259</td>\n",
       "      <td>0.100346</td>\n",
       "      <td>0</td>\n",
       "      <td>0</td>\n",
       "      <td>1</td>\n",
       "      <td>0</td>\n",
       "      <td>0</td>\n",
       "    </tr>\n",
       "    <tr>\n",
       "      <th>...</th>\n",
       "      <td>...</td>\n",
       "      <td>...</td>\n",
       "      <td>...</td>\n",
       "      <td>...</td>\n",
       "      <td>...</td>\n",
       "      <td>...</td>\n",
       "      <td>...</td>\n",
       "      <td>...</td>\n",
       "      <td>...</td>\n",
       "      <td>...</td>\n",
       "      <td>...</td>\n",
       "    </tr>\n",
       "    <tr>\n",
       "      <th>381104</th>\n",
       "      <td>0.830769</td>\n",
       "      <td>1</td>\n",
       "      <td>0</td>\n",
       "      <td>1</td>\n",
       "      <td>0.051234</td>\n",
       "      <td>0.269896</td>\n",
       "      <td>0</td>\n",
       "      <td>1</td>\n",
       "      <td>0</td>\n",
       "      <td>0</td>\n",
       "      <td>0</td>\n",
       "    </tr>\n",
       "    <tr>\n",
       "      <th>381105</th>\n",
       "      <td>0.153846</td>\n",
       "      <td>1</td>\n",
       "      <td>0</td>\n",
       "      <td>1</td>\n",
       "      <td>0.069551</td>\n",
       "      <td>0.418685</td>\n",
       "      <td>0</td>\n",
       "      <td>1</td>\n",
       "      <td>1</td>\n",
       "      <td>0</td>\n",
       "      <td>0</td>\n",
       "    </tr>\n",
       "    <tr>\n",
       "      <th>381106</th>\n",
       "      <td>0.015385</td>\n",
       "      <td>1</td>\n",
       "      <td>0</td>\n",
       "      <td>1</td>\n",
       "      <td>0.060439</td>\n",
       "      <td>0.522491</td>\n",
       "      <td>0</td>\n",
       "      <td>1</td>\n",
       "      <td>1</td>\n",
       "      <td>0</td>\n",
       "      <td>0</td>\n",
       "    </tr>\n",
       "    <tr>\n",
       "      <th>381107</th>\n",
       "      <td>0.738462</td>\n",
       "      <td>1</td>\n",
       "      <td>0</td>\n",
       "      <td>0</td>\n",
       "      <td>0.078110</td>\n",
       "      <td>0.221453</td>\n",
       "      <td>0</td>\n",
       "      <td>0</td>\n",
       "      <td>0</td>\n",
       "      <td>1</td>\n",
       "      <td>1</td>\n",
       "    </tr>\n",
       "    <tr>\n",
       "      <th>381108</th>\n",
       "      <td>0.400000</td>\n",
       "      <td>1</td>\n",
       "      <td>0</td>\n",
       "      <td>0</td>\n",
       "      <td>0.072827</td>\n",
       "      <td>0.785467</td>\n",
       "      <td>0</td>\n",
       "      <td>1</td>\n",
       "      <td>0</td>\n",
       "      <td>0</td>\n",
       "      <td>0</td>\n",
       "    </tr>\n",
       "  </tbody>\n",
       "</table>\n",
       "<p>381109 rows × 11 columns</p>\n",
       "</div>"
      ],
      "text/plain": [
       "             Age  Driving_License  Region_Code  Previously_Insured  \\\n",
       "0       0.369231                1            1                   0   \n",
       "1       0.861538                1            0                   0   \n",
       "2       0.415385                1            1                   0   \n",
       "3       0.015385                1            0                   1   \n",
       "4       0.138462                1            0                   1   \n",
       "...          ...              ...          ...                 ...   \n",
       "381104  0.830769                1            0                   1   \n",
       "381105  0.153846                1            0                   1   \n",
       "381106  0.015385                1            0                   1   \n",
       "381107  0.738462                1            0                   0   \n",
       "381108  0.400000                1            0                   0   \n",
       "\n",
       "        Annual_Premium   Vintage  Response  Gender_Male  Vehicle_Age_< 1 Year  \\\n",
       "0             0.070366  0.716263         1            1                     0   \n",
       "1             0.057496  0.598616         0            1                     0   \n",
       "2             0.066347  0.058824         1            1                     0   \n",
       "3             0.048348  0.667820         0            1                     1   \n",
       "4             0.046259  0.100346         0            0                     1   \n",
       "...                ...       ...       ...          ...                   ...   \n",
       "381104        0.051234  0.269896         0            1                     0   \n",
       "381105        0.069551  0.418685         0            1                     1   \n",
       "381106        0.060439  0.522491         0            1                     1   \n",
       "381107        0.078110  0.221453         0            0                     0   \n",
       "381108        0.072827  0.785467         0            1                     0   \n",
       "\n",
       "        Vehicle_Age_> 2 Years  Vehicle_Damage_Yes  \n",
       "0                           1                   1  \n",
       "1                           0                   0  \n",
       "2                           1                   1  \n",
       "3                           0                   0  \n",
       "4                           0                   0  \n",
       "...                       ...                 ...  \n",
       "381104                      0                   0  \n",
       "381105                      0                   0  \n",
       "381106                      0                   0  \n",
       "381107                      1                   1  \n",
       "381108                      0                   0  \n",
       "\n",
       "[381109 rows x 11 columns]"
      ]
     },
     "execution_count": 34,
     "metadata": {},
     "output_type": "execute_result"
    }
   ],
   "source": [
    "train"
   ]
  },
  {
   "cell_type": "code",
   "execution_count": 35,
   "id": "2a9fff46",
   "metadata": {},
   "outputs": [
    {
     "data": {
      "text/html": [
       "<div>\n",
       "<style scoped>\n",
       "    .dataframe tbody tr th:only-of-type {\n",
       "        vertical-align: middle;\n",
       "    }\n",
       "\n",
       "    .dataframe tbody tr th {\n",
       "        vertical-align: top;\n",
       "    }\n",
       "\n",
       "    .dataframe thead th {\n",
       "        text-align: right;\n",
       "    }\n",
       "</style>\n",
       "<table border=\"1\" class=\"dataframe\">\n",
       "  <thead>\n",
       "    <tr style=\"text-align: right;\">\n",
       "      <th></th>\n",
       "      <th>Age</th>\n",
       "      <th>Driving_License</th>\n",
       "      <th>Region_Code</th>\n",
       "      <th>Previously_Insured</th>\n",
       "      <th>Annual_Premium</th>\n",
       "      <th>Vintage</th>\n",
       "      <th>Response</th>\n",
       "      <th>Gender_Male</th>\n",
       "      <th>Vehicle_Age_&lt; 1 Year</th>\n",
       "      <th>Vehicle_Age_&gt; 2 Years</th>\n",
       "      <th>Vehicle_Damage_Yes</th>\n",
       "    </tr>\n",
       "  </thead>\n",
       "  <tbody>\n",
       "    <tr>\n",
       "      <th>Age</th>\n",
       "      <td>1.000000</td>\n",
       "      <td>-0.079782</td>\n",
       "      <td>0.298304</td>\n",
       "      <td>-0.254682</td>\n",
       "      <td>0.067507</td>\n",
       "      <td>-0.001264</td>\n",
       "      <td>0.111147</td>\n",
       "      <td>0.145545</td>\n",
       "      <td>-0.787775</td>\n",
       "      <td>0.220694</td>\n",
       "      <td>0.267534</td>\n",
       "    </tr>\n",
       "    <tr>\n",
       "      <th>Driving_License</th>\n",
       "      <td>-0.079782</td>\n",
       "      <td>1.000000</td>\n",
       "      <td>-0.016017</td>\n",
       "      <td>0.014969</td>\n",
       "      <td>-0.011906</td>\n",
       "      <td>-0.000848</td>\n",
       "      <td>0.010155</td>\n",
       "      <td>-0.018374</td>\n",
       "      <td>0.040215</td>\n",
       "      <td>-0.006211</td>\n",
       "      <td>-0.016622</td>\n",
       "    </tr>\n",
       "    <tr>\n",
       "      <th>Region_Code</th>\n",
       "      <td>0.298304</td>\n",
       "      <td>-0.016017</td>\n",
       "      <td>1.000000</td>\n",
       "      <td>-0.182873</td>\n",
       "      <td>0.293050</td>\n",
       "      <td>0.000369</td>\n",
       "      <td>0.122609</td>\n",
       "      <td>0.029822</td>\n",
       "      <td>-0.325856</td>\n",
       "      <td>0.147437</td>\n",
       "      <td>0.193135</td>\n",
       "    </tr>\n",
       "    <tr>\n",
       "      <th>Previously_Insured</th>\n",
       "      <td>-0.254682</td>\n",
       "      <td>0.014969</td>\n",
       "      <td>-0.182873</td>\n",
       "      <td>1.000000</td>\n",
       "      <td>0.004269</td>\n",
       "      <td>0.002537</td>\n",
       "      <td>-0.341170</td>\n",
       "      <td>-0.081932</td>\n",
       "      <td>0.358773</td>\n",
       "      <td>-0.191352</td>\n",
       "      <td>-0.824143</td>\n",
       "    </tr>\n",
       "    <tr>\n",
       "      <th>Annual_Premium</th>\n",
       "      <td>0.067507</td>\n",
       "      <td>-0.011906</td>\n",
       "      <td>0.293050</td>\n",
       "      <td>0.004269</td>\n",
       "      <td>1.000000</td>\n",
       "      <td>-0.000608</td>\n",
       "      <td>0.022575</td>\n",
       "      <td>0.003673</td>\n",
       "      <td>-0.022555</td>\n",
       "      <td>0.061918</td>\n",
       "      <td>0.009349</td>\n",
       "    </tr>\n",
       "    <tr>\n",
       "      <th>Vintage</th>\n",
       "      <td>-0.001264</td>\n",
       "      <td>-0.000848</td>\n",
       "      <td>0.000369</td>\n",
       "      <td>0.002537</td>\n",
       "      <td>-0.000608</td>\n",
       "      <td>1.000000</td>\n",
       "      <td>-0.001050</td>\n",
       "      <td>-0.002517</td>\n",
       "      <td>0.002410</td>\n",
       "      <td>0.000600</td>\n",
       "      <td>-0.002064</td>\n",
       "    </tr>\n",
       "    <tr>\n",
       "      <th>Response</th>\n",
       "      <td>0.111147</td>\n",
       "      <td>0.010155</td>\n",
       "      <td>0.122609</td>\n",
       "      <td>-0.341170</td>\n",
       "      <td>0.022575</td>\n",
       "      <td>-0.001050</td>\n",
       "      <td>1.000000</td>\n",
       "      <td>0.052440</td>\n",
       "      <td>-0.209878</td>\n",
       "      <td>0.109300</td>\n",
       "      <td>0.354400</td>\n",
       "    </tr>\n",
       "    <tr>\n",
       "      <th>Gender_Male</th>\n",
       "      <td>0.145545</td>\n",
       "      <td>-0.018374</td>\n",
       "      <td>0.029822</td>\n",
       "      <td>-0.081932</td>\n",
       "      <td>0.003673</td>\n",
       "      <td>-0.002517</td>\n",
       "      <td>0.052440</td>\n",
       "      <td>1.000000</td>\n",
       "      <td>-0.166280</td>\n",
       "      <td>0.043155</td>\n",
       "      <td>0.091606</td>\n",
       "    </tr>\n",
       "    <tr>\n",
       "      <th>Vehicle_Age_&lt; 1 Year</th>\n",
       "      <td>-0.787775</td>\n",
       "      <td>0.040215</td>\n",
       "      <td>-0.325856</td>\n",
       "      <td>0.358773</td>\n",
       "      <td>-0.022555</td>\n",
       "      <td>0.002410</td>\n",
       "      <td>-0.209878</td>\n",
       "      <td>-0.166280</td>\n",
       "      <td>1.000000</td>\n",
       "      <td>-0.182750</td>\n",
       "      <td>-0.370778</td>\n",
       "    </tr>\n",
       "    <tr>\n",
       "      <th>Vehicle_Age_&gt; 2 Years</th>\n",
       "      <td>0.220694</td>\n",
       "      <td>-0.006211</td>\n",
       "      <td>0.147437</td>\n",
       "      <td>-0.191352</td>\n",
       "      <td>0.061918</td>\n",
       "      <td>0.000600</td>\n",
       "      <td>0.109300</td>\n",
       "      <td>0.043155</td>\n",
       "      <td>-0.182750</td>\n",
       "      <td>1.000000</td>\n",
       "      <td>0.206961</td>\n",
       "    </tr>\n",
       "    <tr>\n",
       "      <th>Vehicle_Damage_Yes</th>\n",
       "      <td>0.267534</td>\n",
       "      <td>-0.016622</td>\n",
       "      <td>0.193135</td>\n",
       "      <td>-0.824143</td>\n",
       "      <td>0.009349</td>\n",
       "      <td>-0.002064</td>\n",
       "      <td>0.354400</td>\n",
       "      <td>0.091606</td>\n",
       "      <td>-0.370778</td>\n",
       "      <td>0.206961</td>\n",
       "      <td>1.000000</td>\n",
       "    </tr>\n",
       "  </tbody>\n",
       "</table>\n",
       "</div>"
      ],
      "text/plain": [
       "                            Age  Driving_License  Region_Code  \\\n",
       "Age                    1.000000        -0.079782     0.298304   \n",
       "Driving_License       -0.079782         1.000000    -0.016017   \n",
       "Region_Code            0.298304        -0.016017     1.000000   \n",
       "Previously_Insured    -0.254682         0.014969    -0.182873   \n",
       "Annual_Premium         0.067507        -0.011906     0.293050   \n",
       "Vintage               -0.001264        -0.000848     0.000369   \n",
       "Response               0.111147         0.010155     0.122609   \n",
       "Gender_Male            0.145545        -0.018374     0.029822   \n",
       "Vehicle_Age_< 1 Year  -0.787775         0.040215    -0.325856   \n",
       "Vehicle_Age_> 2 Years  0.220694        -0.006211     0.147437   \n",
       "Vehicle_Damage_Yes     0.267534        -0.016622     0.193135   \n",
       "\n",
       "                       Previously_Insured  Annual_Premium   Vintage  Response  \\\n",
       "Age                             -0.254682        0.067507 -0.001264  0.111147   \n",
       "Driving_License                  0.014969       -0.011906 -0.000848  0.010155   \n",
       "Region_Code                     -0.182873        0.293050  0.000369  0.122609   \n",
       "Previously_Insured               1.000000        0.004269  0.002537 -0.341170   \n",
       "Annual_Premium                   0.004269        1.000000 -0.000608  0.022575   \n",
       "Vintage                          0.002537       -0.000608  1.000000 -0.001050   \n",
       "Response                        -0.341170        0.022575 -0.001050  1.000000   \n",
       "Gender_Male                     -0.081932        0.003673 -0.002517  0.052440   \n",
       "Vehicle_Age_< 1 Year             0.358773       -0.022555  0.002410 -0.209878   \n",
       "Vehicle_Age_> 2 Years           -0.191352        0.061918  0.000600  0.109300   \n",
       "Vehicle_Damage_Yes              -0.824143        0.009349 -0.002064  0.354400   \n",
       "\n",
       "                       Gender_Male  Vehicle_Age_< 1 Year  \\\n",
       "Age                       0.145545             -0.787775   \n",
       "Driving_License          -0.018374              0.040215   \n",
       "Region_Code               0.029822             -0.325856   \n",
       "Previously_Insured       -0.081932              0.358773   \n",
       "Annual_Premium            0.003673             -0.022555   \n",
       "Vintage                  -0.002517              0.002410   \n",
       "Response                  0.052440             -0.209878   \n",
       "Gender_Male               1.000000             -0.166280   \n",
       "Vehicle_Age_< 1 Year     -0.166280              1.000000   \n",
       "Vehicle_Age_> 2 Years     0.043155             -0.182750   \n",
       "Vehicle_Damage_Yes        0.091606             -0.370778   \n",
       "\n",
       "                       Vehicle_Age_> 2 Years  Vehicle_Damage_Yes  \n",
       "Age                                 0.220694            0.267534  \n",
       "Driving_License                    -0.006211           -0.016622  \n",
       "Region_Code                         0.147437            0.193135  \n",
       "Previously_Insured                 -0.191352           -0.824143  \n",
       "Annual_Premium                      0.061918            0.009349  \n",
       "Vintage                             0.000600           -0.002064  \n",
       "Response                            0.109300            0.354400  \n",
       "Gender_Male                         0.043155            0.091606  \n",
       "Vehicle_Age_< 1 Year               -0.182750           -0.370778  \n",
       "Vehicle_Age_> 2 Years               1.000000            0.206961  \n",
       "Vehicle_Damage_Yes                  0.206961            1.000000  "
      ]
     },
     "execution_count": 35,
     "metadata": {},
     "output_type": "execute_result"
    }
   ],
   "source": [
    "train.corr()"
   ]
  },
  {
   "cell_type": "code",
   "execution_count": 37,
   "id": "0e036f1e",
   "metadata": {},
   "outputs": [
    {
     "data": {
      "image/png": "[encoded data removed]",
      "text/plain": [
       "<Figure size 720x720 with 2 Axes>"
      ]
     },
     "metadata": {
      "needs_background": "light"
     },
     "output_type": "display_data"
    }
   ],
   "source": [
    "import seaborn as sns\n",
    "import matplotlib.pyplot as plt\n",
    "# !pip install seaborn\n",
    "# !pip install matplotlib\n",
    "\n",
    "fig, ax = plt.subplots(figsize=(10,10))   \n",
    "dataplot = sns.heatmap(train.corr(), annot=True, ax = ax)"
   ]
  },
  {
   "cell_type": "code",
   "execution_count": 38,
   "id": "4754190e",
   "metadata": {},
   "outputs": [
    {
     "data": {
      "text/plain": [
       "((381109, 10), (381109,))"
      ]
     },
     "execution_count": 38,
     "metadata": {},
     "output_type": "execute_result"
    }
   ],
   "source": [
    "X = train.drop(columns=[\"Response\"])\n",
    "y = train[\"Response\"]\n",
    "X.shape, y.shape"
   ]
  },
  {
   "cell_type": "code",
   "execution_count": 43,
   "id": "7d47839b",
   "metadata": {},
   "outputs": [
    {
     "data": {
      "text/plain": [
       "((304887, 10), (304887,))"
      ]
     },
     "execution_count": 43,
     "metadata": {},
     "output_type": "execute_result"
    }
   ],
   "source": [
    "# Split train test\n",
    "from sklearn.model_selection import train_test_split\n",
    "\n",
    "X_train, X_test, y_train, y_test = train_test_split(X, y, test_size = 0.2, random_state=42)\n",
    "X_train.shape, y_train.shape"
   ]
  },
  {
   "cell_type": "code",
   "execution_count": 44,
   "id": "1330aaa4",
   "metadata": {},
   "outputs": [
    {
     "data": {
      "text/plain": [
       "0    267700\n",
       "1     37187\n",
       "Name: Response, dtype: int64"
      ]
     },
     "execution_count": 44,
     "metadata": {},
     "output_type": "execute_result"
    }
   ],
   "source": [
    "y_train.value_counts()"
   ]
  },
  {
   "cell_type": "code",
   "execution_count": 45,
   "id": "bd99bf2a",
   "metadata": {},
   "outputs": [
    {
     "data": {
      "text/plain": [
       "((535400, 10), (535400,))"
      ]
     },
     "execution_count": 45,
     "metadata": {},
     "output_type": "execute_result"
    }
   ],
   "source": [
    "# Oversampling use SMOTE\n",
    "# !pip install imbalanced-learn\n",
    "from imblearn.over_sampling import SMOTE\n",
    "\n",
    "sm = SMOTE()\n",
    "\n",
    "X_train_os, y_train_os = sm.fit_resample(X_train, y_train)\n",
    "\n",
    "X_train_os.shape, y_train_os.shape"
   ]
  },
  {
   "cell_type": "code",
   "execution_count": 46,
   "id": "16a3996a",
   "metadata": {},
   "outputs": [
    {
     "data": {
      "text/plain": [
       "1    267700\n",
       "0    267700\n",
       "Name: Response, dtype: int64"
      ]
     },
     "execution_count": 46,
     "metadata": {},
     "output_type": "execute_result"
    }
   ],
   "source": [
    "y_train_os.value_counts()"
   ]
  },
  {
   "cell_type": "markdown",
   "id": "412a16ed",
   "metadata": {},
   "source": [
    "# Logistic Regression no Oversampling"
   ]
  },
  {
   "cell_type": "code",
   "execution_count": 47,
   "id": "d4f8ad02",
   "metadata": {},
   "outputs": [
    {
     "name": "stdout",
     "output_type": "stream",
     "text": [
      "              precision    recall  f1-score   support\n",
      "\n",
      "           0       0.88      1.00      0.93     66699\n",
      "           1       1.00      0.00      0.00      9523\n",
      "\n",
      "    accuracy                           0.88     76222\n",
      "   macro avg       0.94      0.50      0.47     76222\n",
      "weighted avg       0.89      0.88      0.82     76222\n",
      "\n"
     ]
    },
    {
     "name": "stderr",
     "output_type": "stream",
     "text": [
      "/home/anhpv/.conda/envs/mtcnn/lib/python3.8/site-packages/sklearn/utils/deprecation.py:87: FutureWarning: Function plot_confusion_matrix is deprecated; Function `plot_confusion_matrix` is deprecated in 1.0 and will be removed in 1.2. Use one of the class methods: ConfusionMatrixDisplay.from_predictions or ConfusionMatrixDisplay.from_estimator.\n",
      "  warnings.warn(msg, category=FutureWarning)\n"
     ]
    },
    {
     "data": {
      "text/plain": [
       "<sklearn.metrics._plot.confusion_matrix.ConfusionMatrixDisplay at 0x7f234c4ae040>"
      ]
     },
     "execution_count": 47,
     "metadata": {},
     "output_type": "execute_result"
    },
    {
     "data": {
      "image/png": "[encoded data removed]",
      "text/plain": [
       "<Figure size 432x288 with 2 Axes>"
      ]
     },
     "metadata": {
      "needs_background": "light"
     },
     "output_type": "display_data"
    }
   ],
   "source": [
    "from sklearn.metrics import classification_report\n",
    "from sklearn.linear_model import LogisticRegression\n",
    "from sklearn.metrics import plot_confusion_matrix\n",
    "\n",
    "model_log = LogisticRegression()\n",
    "model_log.fit(X_train, y_train)\n",
    "\n",
    "y_pred = model_log.predict(X_test)\n",
    "\n",
    "print(classification_report( y_test, y_pred))\n",
    "plot_confusion_matrix(model_log, X_test, y_test)"
   ]
  },
  {
   "cell_type": "markdown",
   "id": "e6ed5d4c",
   "metadata": {},
   "source": [
    "# Logistic Regression with OS"
   ]
  },
  {
   "cell_type": "code",
   "execution_count": 48,
   "id": "5ed7d873",
   "metadata": {},
   "outputs": [
    {
     "name": "stdout",
     "output_type": "stream",
     "text": [
      "              precision    recall  f1-score   support\n",
      "\n",
      "           0       0.99      0.59      0.74     66699\n",
      "           1       0.26      0.97      0.40      9523\n",
      "\n",
      "    accuracy                           0.64     76222\n",
      "   macro avg       0.62      0.78      0.57     76222\n",
      "weighted avg       0.90      0.64      0.70     76222\n",
      "\n"
     ]
    },
    {
     "name": "stderr",
     "output_type": "stream",
     "text": [
      "/home/anhpv/.conda/envs/mtcnn/lib/python3.8/site-packages/sklearn/utils/deprecation.py:87: FutureWarning: Function plot_confusion_matrix is deprecated; Function `plot_confusion_matrix` is deprecated in 1.0 and will be removed in 1.2. Use one of the class methods: ConfusionMatrixDisplay.from_predictions or ConfusionMatrixDisplay.from_estimator.\n",
      "  warnings.warn(msg, category=FutureWarning)\n"
     ]
    },
    {
     "data": {
      "text/plain": [
       "<sklearn.metrics._plot.confusion_matrix.ConfusionMatrixDisplay at 0x7f2351ab7bb0>"
      ]
     },
     "execution_count": 48,
     "metadata": {},
     "output_type": "execute_result"
    },
    {
     "data": {
      "image/png": "[encoded data removed]",
      "text/plain": [
       "<Figure size 432x288 with 2 Axes>"
      ]
     },
     "metadata": {
      "needs_background": "light"
     },
     "output_type": "display_data"
    }
   ],
   "source": [
    "from sklearn.metrics import classification_report\n",
    "from sklearn.linear_model import LogisticRegression\n",
    "from sklearn.metrics import plot_confusion_matrix\n",
    "\n",
    "model_log = LogisticRegression()\n",
    "model_log.fit(X_train_os, y_train_os)\n",
    "\n",
    "y_pred = model_log.predict(X_test)\n",
    "\n",
    "print(classification_report( y_test, y_pred))\n",
    "plot_confusion_matrix(model_log, X_test, y_test)"
   ]
  },
  {
   "cell_type": "markdown",
   "id": "e2b37494",
   "metadata": {},
   "source": [
    "# XGBoost (with OS/no OS)"
   ]
  },
  {
   "cell_type": "code",
   "execution_count": null,
   "id": "5278dffb",
   "metadata": {},
   "outputs": [],
   "source": [
    "# !pip install xgboost\n",
    "Vehicle_Age_< 1 Year\tVehicle_Age_> 2 Years"
   ]
  },
  {
   "cell_type": "code",
   "execution_count": 51,
   "id": "ec3c8055",
   "metadata": {},
   "outputs": [],
   "source": [
    "X_train = X_train.rename(columns={\"Vehicle_Age_< 1 Year\": \"Vehicle_Less_1Year\", \"Vehicle_Age_> 2 Years\": \"Vehicle_More_2Year\" }, errors=\"raise\")\n",
    "X_test = X_test.rename(columns={\"Vehicle_Age_< 1 Year\": \"Vehicle_Less_1Year\", \"Vehicle_Age_> 2 Years\": \"Vehicle_More_2Year\" }, errors=\"raise\")\n",
    "X_train_os = X_train_os.rename(columns={\"Vehicle_Age_< 1 Year\": \"Vehicle_Less_1Year\", \"Vehicle_Age_> 2 Years\": \"Vehicle_More_2Year\" }, errors=\"raise\")\n"
   ]
  },
  {
   "cell_type": "code",
   "execution_count": 53,
   "id": "8cdfb282",
   "metadata": {},
   "outputs": [
    {
     "name": "stdout",
     "output_type": "stream",
     "text": [
      "              precision    recall  f1-score   support\n",
      "\n",
      "           0       0.88      1.00      0.93     66699\n",
      "           1       0.41      0.01      0.01      9523\n",
      "\n",
      "    accuracy                           0.87     76222\n",
      "   macro avg       0.64      0.50      0.47     76222\n",
      "weighted avg       0.82      0.87      0.82     76222\n",
      "\n"
     ]
    },
    {
     "name": "stderr",
     "output_type": "stream",
     "text": [
      "/home/anhpv/.conda/envs/mtcnn/lib/python3.8/site-packages/sklearn/utils/deprecation.py:87: FutureWarning: Function plot_confusion_matrix is deprecated; Function `plot_confusion_matrix` is deprecated in 1.0 and will be removed in 1.2. Use one of the class methods: ConfusionMatrixDisplay.from_predictions or ConfusionMatrixDisplay.from_estimator.\n",
      "  warnings.warn(msg, category=FutureWarning)\n"
     ]
    },
    {
     "data": {
      "text/plain": [
       "<sklearn.metrics._plot.confusion_matrix.ConfusionMatrixDisplay at 0x7f2310037c70>"
      ]
     },
     "execution_count": 53,
     "metadata": {},
     "output_type": "execute_result"
    },
    {
     "data": {
      "image/png": "[encoded data removed]",
      "text/plain": [
       "<Figure size 432x288 with 2 Axes>"
      ]
     },
     "metadata": {
      "needs_background": "light"
     },
     "output_type": "display_data"
    }
   ],
   "source": [
    "import xgboost as xgb\n",
    "\n",
    "model_xgb = xgb.XGBClassifier(random_state=42, n_estimators=100)\n",
    "model_xgb.fit(X_train, y_train)\n",
    "\n",
    "\n",
    "y_pred = model_xgb.predict(X_test)\n",
    "\n",
    "print(classification_report( y_test, y_pred))\n",
    "plot_confusion_matrix(model_xgb, X_test, y_test)"
   ]
  },
  {
   "cell_type": "code",
   "execution_count": 54,
   "id": "db429cb4",
   "metadata": {},
   "outputs": [
    {
     "name": "stdout",
     "output_type": "stream",
     "text": [
      "              precision    recall  f1-score   support\n",
      "\n",
      "           0       0.96      0.77      0.85     66699\n",
      "           1       0.32      0.75      0.44      9523\n",
      "\n",
      "    accuracy                           0.76     76222\n",
      "   macro avg       0.64      0.76      0.65     76222\n",
      "weighted avg       0.88      0.76      0.80     76222\n",
      "\n"
     ]
    },
    {
     "name": "stderr",
     "output_type": "stream",
     "text": [
      "/home/anhpv/.conda/envs/mtcnn/lib/python3.8/site-packages/sklearn/utils/deprecation.py:87: FutureWarning: Function plot_confusion_matrix is deprecated; Function `plot_confusion_matrix` is deprecated in 1.0 and will be removed in 1.2. Use one of the class methods: ConfusionMatrixDisplay.from_predictions or ConfusionMatrixDisplay.from_estimator.\n",
      "  warnings.warn(msg, category=FutureWarning)\n"
     ]
    },
    {
     "data": {
      "text/plain": [
       "<sklearn.metrics._plot.confusion_matrix.ConfusionMatrixDisplay at 0x7f2351b40940>"
      ]
     },
     "execution_count": 54,
     "metadata": {},
     "output_type": "execute_result"
    },
    {
     "data": {
      "image/png": "[encoded data removed]",
      "text/plain": [
       "<Figure size 432x288 with 2 Axes>"
      ]
     },
     "metadata": {
      "needs_background": "light"
     },
     "output_type": "display_data"
    }
   ],
   "source": [
    "import xgboost as xgb\n",
    "\n",
    "model_xgb = xgb.XGBClassifier(random_state=42, n_estimators=100)\n",
    "model_xgb.fit(X_train_os, y_train_os)\n",
    "\n",
    "\n",
    "y_pred = model_xgb.predict(X_test)\n",
    "\n",
    "print(classification_report( y_test, y_pred))\n",
    "plot_confusion_matrix(model_xgb, X_test, y_test)"
   ]
  },
  {
   "cell_type": "markdown",
   "id": "907ff6f0",
   "metadata": {},
   "source": [
    "# Random Forest"
   ]
  },
  {
   "cell_type": "code",
   "execution_count": 55,
   "id": "009ccfdb",
   "metadata": {},
   "outputs": [
    {
     "name": "stdout",
     "output_type": "stream",
     "text": [
      "              precision    recall  f1-score   support\n",
      "\n",
      "           0       0.89      0.95      0.92     66699\n",
      "           1       0.31      0.15      0.21      9523\n",
      "\n",
      "    accuracy                           0.85     76222\n",
      "   macro avg       0.60      0.55      0.56     76222\n",
      "weighted avg       0.82      0.85      0.83     76222\n",
      "\n"
     ]
    },
    {
     "name": "stderr",
     "output_type": "stream",
     "text": [
      "/home/anhpv/.conda/envs/mtcnn/lib/python3.8/site-packages/sklearn/utils/deprecation.py:87: FutureWarning: Function plot_confusion_matrix is deprecated; Function `plot_confusion_matrix` is deprecated in 1.0 and will be removed in 1.2. Use one of the class methods: ConfusionMatrixDisplay.from_predictions or ConfusionMatrixDisplay.from_estimator.\n",
      "  warnings.warn(msg, category=FutureWarning)\n"
     ]
    },
    {
     "data": {
      "text/plain": [
       "<sklearn.metrics._plot.confusion_matrix.ConfusionMatrixDisplay at 0x7f22d478fd90>"
      ]
     },
     "execution_count": 55,
     "metadata": {},
     "output_type": "execute_result"
    },
    {
     "data": {
      "image/png": "[encoded data removed]",
      "text/plain": [
       "<Figure size 432x288 with 2 Axes>"
      ]
     },
     "metadata": {
      "needs_background": "light"
     },
     "output_type": "display_data"
    }
   ],
   "source": [
    "# RandomForest no OS\n",
    "from sklearn.tree import DecisionTreeClassifier\n",
    "from sklearn.model_selection import GridSearchCV\n",
    "from sklearn.ensemble import RandomForestClassifier\n",
    "\n",
    "forest= RandomForestClassifier(random_state=42) \n",
    "forest.fit(X_train,y_train) \n",
    "\n",
    "y_pred = forest.predict(X_test)\n",
    "\n",
    "print(classification_report( y_test, y_pred))\n",
    "plot_confusion_matrix(forest, X_test, y_test)"
   ]
  },
  {
   "cell_type": "code",
   "execution_count": 56,
   "id": "fd33a776",
   "metadata": {},
   "outputs": [
    {
     "name": "stdout",
     "output_type": "stream",
     "text": [
      "              precision    recall  f1-score   support\n",
      "\n",
      "           0       0.92      0.84      0.88     66699\n",
      "           1       0.30      0.47      0.37      9523\n",
      "\n",
      "    accuracy                           0.80     76222\n",
      "   macro avg       0.61      0.66      0.62     76222\n",
      "weighted avg       0.84      0.80      0.81     76222\n",
      "\n"
     ]
    },
    {
     "name": "stderr",
     "output_type": "stream",
     "text": [
      "/home/anhpv/.conda/envs/mtcnn/lib/python3.8/site-packages/sklearn/utils/deprecation.py:87: FutureWarning: Function plot_confusion_matrix is deprecated; Function `plot_confusion_matrix` is deprecated in 1.0 and will be removed in 1.2. Use one of the class methods: ConfusionMatrixDisplay.from_predictions or ConfusionMatrixDisplay.from_estimator.\n",
      "  warnings.warn(msg, category=FutureWarning)\n"
     ]
    },
    {
     "data": {
      "text/plain": [
       "<sklearn.metrics._plot.confusion_matrix.ConfusionMatrixDisplay at 0x7f23190ca9d0>"
      ]
     },
     "execution_count": 56,
     "metadata": {},
     "output_type": "execute_result"
    },
    {
     "data": {
      "image/png": "[encoded data removed]",
      "text/plain": [
       "<Figure size 432x288 with 2 Axes>"
      ]
     },
     "metadata": {
      "needs_background": "light"
     },
     "output_type": "display_data"
    }
   ],
   "source": [
    "# RandomForest with OS\n",
    "from sklearn.tree import DecisionTreeClassifier\n",
    "from sklearn.model_selection import GridSearchCV\n",
    "from sklearn.ensemble import RandomForestClassifier\n",
    "\n",
    "forest= RandomForestClassifier(random_state=42) \n",
    "forest.fit(X_train_os,y_train_os) \n",
    "\n",
    "y_pred = forest.predict(X_test)\n",
    "\n",
    "print(classification_report( y_test, y_pred))\n",
    "plot_confusion_matrix(forest, X_test, y_test)"
   ]
  }
 ],
 "metadata": {
  "kernelspec": {
   "display_name": "Python 3",
   "language": "python",
   "name": "python3"
  },
  "language_info": {
   "codemirror_mode": {
    "name": "ipython",
    "version": 3
   },
   "file_extension": ".py",
   "mimetype": "text/x-python",
   "name": "python",
   "nbconvert_exporter": "python",
   "pygments_lexer": "ipython3",
   "version": "3.8.10"
  }
 },
 "nbformat": 4,
 "nbformat_minor": 5
}
